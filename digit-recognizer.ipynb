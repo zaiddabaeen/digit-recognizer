{
 "cells": [
  {
   "cell_type": "markdown",
   "metadata": {},
   "source": [
    "# Digit Recognizer (MNIST Data)"
   ]
  },
  {
   "cell_type": "markdown",
   "metadata": {},
   "source": [
    "This notebook is heavily based on Jeremy Howard's notebooks from Practical Deep Learning For Coders, Part 1 (course.fast.ai). Download the competitions files into data/mnist folder."
   ]
  },
  {
   "cell_type": "markdown",
   "metadata": {},
   "source": [
    "Kaggle Competition: https://www.kaggle.com/c/digit-recognizer"
   ]
  },
  {
   "cell_type": "markdown",
   "metadata": {},
   "source": [
    "Score: 0.994"
   ]
  },
  {
   "cell_type": "markdown",
   "metadata": {},
   "source": [
    "## Imports"
   ]
  },
  {
   "cell_type": "code",
   "execution_count": 1,
   "metadata": {
    "collapsed": false
   },
   "outputs": [
    {
     "name": "stderr",
     "output_type": "stream",
     "text": [
      "ERROR (theano.sandbox.cuda): nvcc compiler not found on $PATH. Check your nvcc installation and try again.\n"
     ]
    }
   ],
   "source": [
    "from theano.sandbox import cuda\n",
    "cuda.use('gpu2')"
   ]
  },
  {
   "cell_type": "code",
   "execution_count": 2,
   "metadata": {
    "collapsed": false
   },
   "outputs": [
    {
     "name": "stderr",
     "output_type": "stream",
     "text": [
      "Using TensorFlow backend.\n"
     ]
    }
   ],
   "source": [
    "%matplotlib inline\n",
    "import utils; reload(utils)\n",
    "from utils import *\n",
    "from __future__ import division, print_function"
   ]
  },
  {
   "cell_type": "markdown",
   "metadata": {
    "heading_collapsed": true
   },
   "source": [
    "## Setup"
   ]
  },
  {
   "cell_type": "code",
   "execution_count": 4,
   "metadata": {
    "collapsed": true
   },
   "outputs": [],
   "source": [
    "path=\"data/mnist/\"\n",
    "model_path = path + 'models/'\n",
    "results_path = path + 'results/'\n",
    "submissions_path = path + 'submissions/'\n",
    "if not os.path.exists(model_path): os.mkdir(model_path)\n",
    "if not os.path.exists(results_path): os.mkdir(results_path)\n",
    "if not os.path.exists(submissions_path): os.mkdir(submissions_path)\n",
    "batch_size=64"
   ]
  },
  {
   "cell_type": "markdown",
   "metadata": {
    "collapsed": true,
    "hidden": true
   },
   "source": [
    "## Reading Data"
   ]
  },
  {
   "cell_type": "code",
   "execution_count": 7,
   "metadata": {
    "collapsed": false,
    "scrolled": false
   },
   "outputs": [
    {
     "data": {
      "text/html": [
       "<div>\n",
       "<table border=\"1\" class=\"dataframe\">\n",
       "  <thead>\n",
       "    <tr style=\"text-align: right;\">\n",
       "      <th></th>\n",
       "      <th>label</th>\n",
       "      <th>pixel0</th>\n",
       "      <th>pixel1</th>\n",
       "      <th>pixel2</th>\n",
       "      <th>pixel3</th>\n",
       "      <th>pixel4</th>\n",
       "      <th>pixel5</th>\n",
       "      <th>pixel6</th>\n",
       "      <th>pixel7</th>\n",
       "      <th>pixel8</th>\n",
       "      <th>...</th>\n",
       "      <th>pixel774</th>\n",
       "      <th>pixel775</th>\n",
       "      <th>pixel776</th>\n",
       "      <th>pixel777</th>\n",
       "      <th>pixel778</th>\n",
       "      <th>pixel779</th>\n",
       "      <th>pixel780</th>\n",
       "      <th>pixel781</th>\n",
       "      <th>pixel782</th>\n",
       "      <th>pixel783</th>\n",
       "    </tr>\n",
       "  </thead>\n",
       "  <tbody>\n",
       "    <tr>\n",
       "      <th>0</th>\n",
       "      <td>1</td>\n",
       "      <td>0</td>\n",
       "      <td>0</td>\n",
       "      <td>0</td>\n",
       "      <td>0</td>\n",
       "      <td>0</td>\n",
       "      <td>0</td>\n",
       "      <td>0</td>\n",
       "      <td>0</td>\n",
       "      <td>0</td>\n",
       "      <td>...</td>\n",
       "      <td>0</td>\n",
       "      <td>0</td>\n",
       "      <td>0</td>\n",
       "      <td>0</td>\n",
       "      <td>0</td>\n",
       "      <td>0</td>\n",
       "      <td>0</td>\n",
       "      <td>0</td>\n",
       "      <td>0</td>\n",
       "      <td>0</td>\n",
       "    </tr>\n",
       "    <tr>\n",
       "      <th>1</th>\n",
       "      <td>0</td>\n",
       "      <td>0</td>\n",
       "      <td>0</td>\n",
       "      <td>0</td>\n",
       "      <td>0</td>\n",
       "      <td>0</td>\n",
       "      <td>0</td>\n",
       "      <td>0</td>\n",
       "      <td>0</td>\n",
       "      <td>0</td>\n",
       "      <td>...</td>\n",
       "      <td>0</td>\n",
       "      <td>0</td>\n",
       "      <td>0</td>\n",
       "      <td>0</td>\n",
       "      <td>0</td>\n",
       "      <td>0</td>\n",
       "      <td>0</td>\n",
       "      <td>0</td>\n",
       "      <td>0</td>\n",
       "      <td>0</td>\n",
       "    </tr>\n",
       "    <tr>\n",
       "      <th>2</th>\n",
       "      <td>1</td>\n",
       "      <td>0</td>\n",
       "      <td>0</td>\n",
       "      <td>0</td>\n",
       "      <td>0</td>\n",
       "      <td>0</td>\n",
       "      <td>0</td>\n",
       "      <td>0</td>\n",
       "      <td>0</td>\n",
       "      <td>0</td>\n",
       "      <td>...</td>\n",
       "      <td>0</td>\n",
       "      <td>0</td>\n",
       "      <td>0</td>\n",
       "      <td>0</td>\n",
       "      <td>0</td>\n",
       "      <td>0</td>\n",
       "      <td>0</td>\n",
       "      <td>0</td>\n",
       "      <td>0</td>\n",
       "      <td>0</td>\n",
       "    </tr>\n",
       "    <tr>\n",
       "      <th>3</th>\n",
       "      <td>4</td>\n",
       "      <td>0</td>\n",
       "      <td>0</td>\n",
       "      <td>0</td>\n",
       "      <td>0</td>\n",
       "      <td>0</td>\n",
       "      <td>0</td>\n",
       "      <td>0</td>\n",
       "      <td>0</td>\n",
       "      <td>0</td>\n",
       "      <td>...</td>\n",
       "      <td>0</td>\n",
       "      <td>0</td>\n",
       "      <td>0</td>\n",
       "      <td>0</td>\n",
       "      <td>0</td>\n",
       "      <td>0</td>\n",
       "      <td>0</td>\n",
       "      <td>0</td>\n",
       "      <td>0</td>\n",
       "      <td>0</td>\n",
       "    </tr>\n",
       "    <tr>\n",
       "      <th>4</th>\n",
       "      <td>0</td>\n",
       "      <td>0</td>\n",
       "      <td>0</td>\n",
       "      <td>0</td>\n",
       "      <td>0</td>\n",
       "      <td>0</td>\n",
       "      <td>0</td>\n",
       "      <td>0</td>\n",
       "      <td>0</td>\n",
       "      <td>0</td>\n",
       "      <td>...</td>\n",
       "      <td>0</td>\n",
       "      <td>0</td>\n",
       "      <td>0</td>\n",
       "      <td>0</td>\n",
       "      <td>0</td>\n",
       "      <td>0</td>\n",
       "      <td>0</td>\n",
       "      <td>0</td>\n",
       "      <td>0</td>\n",
       "      <td>0</td>\n",
       "    </tr>\n",
       "  </tbody>\n",
       "</table>\n",
       "<p>5 rows × 785 columns</p>\n",
       "</div>"
      ],
      "text/plain": [
       "   label  pixel0  pixel1  pixel2  pixel3  pixel4  pixel5  pixel6  pixel7  \\\n",
       "0      1       0       0       0       0       0       0       0       0   \n",
       "1      0       0       0       0       0       0       0       0       0   \n",
       "2      1       0       0       0       0       0       0       0       0   \n",
       "3      4       0       0       0       0       0       0       0       0   \n",
       "4      0       0       0       0       0       0       0       0       0   \n",
       "\n",
       "   pixel8    ...     pixel774  pixel775  pixel776  pixel777  pixel778  \\\n",
       "0       0    ...            0         0         0         0         0   \n",
       "1       0    ...            0         0         0         0         0   \n",
       "2       0    ...            0         0         0         0         0   \n",
       "3       0    ...            0         0         0         0         0   \n",
       "4       0    ...            0         0         0         0         0   \n",
       "\n",
       "   pixel779  pixel780  pixel781  pixel782  pixel783  \n",
       "0         0         0         0         0         0  \n",
       "1         0         0         0         0         0  \n",
       "2         0         0         0         0         0  \n",
       "3         0         0         0         0         0  \n",
       "4         0         0         0         0         0  \n",
       "\n",
       "[5 rows x 785 columns]"
      ]
     },
     "execution_count": 7,
     "metadata": {},
     "output_type": "execute_result"
    }
   ],
   "source": [
    "training = pd.read_csv(path+'train.csv')\n",
    "training.head()"
   ]
  },
  {
   "cell_type": "code",
   "execution_count": 14,
   "metadata": {
    "collapsed": false,
    "scrolled": true
   },
   "outputs": [
    {
     "data": {
      "text/html": [
       "<div>\n",
       "<table border=\"1\" class=\"dataframe\">\n",
       "  <thead>\n",
       "    <tr style=\"text-align: right;\">\n",
       "      <th></th>\n",
       "      <th>pixel0</th>\n",
       "      <th>pixel1</th>\n",
       "      <th>pixel2</th>\n",
       "      <th>pixel3</th>\n",
       "      <th>pixel4</th>\n",
       "      <th>pixel5</th>\n",
       "      <th>pixel6</th>\n",
       "      <th>pixel7</th>\n",
       "      <th>pixel8</th>\n",
       "      <th>pixel9</th>\n",
       "      <th>...</th>\n",
       "      <th>pixel774</th>\n",
       "      <th>pixel775</th>\n",
       "      <th>pixel776</th>\n",
       "      <th>pixel777</th>\n",
       "      <th>pixel778</th>\n",
       "      <th>pixel779</th>\n",
       "      <th>pixel780</th>\n",
       "      <th>pixel781</th>\n",
       "      <th>pixel782</th>\n",
       "      <th>pixel783</th>\n",
       "    </tr>\n",
       "  </thead>\n",
       "  <tbody>\n",
       "    <tr>\n",
       "      <th>0</th>\n",
       "      <td>0</td>\n",
       "      <td>0</td>\n",
       "      <td>0</td>\n",
       "      <td>0</td>\n",
       "      <td>0</td>\n",
       "      <td>0</td>\n",
       "      <td>0</td>\n",
       "      <td>0</td>\n",
       "      <td>0</td>\n",
       "      <td>0</td>\n",
       "      <td>...</td>\n",
       "      <td>0</td>\n",
       "      <td>0</td>\n",
       "      <td>0</td>\n",
       "      <td>0</td>\n",
       "      <td>0</td>\n",
       "      <td>0</td>\n",
       "      <td>0</td>\n",
       "      <td>0</td>\n",
       "      <td>0</td>\n",
       "      <td>0</td>\n",
       "    </tr>\n",
       "    <tr>\n",
       "      <th>1</th>\n",
       "      <td>0</td>\n",
       "      <td>0</td>\n",
       "      <td>0</td>\n",
       "      <td>0</td>\n",
       "      <td>0</td>\n",
       "      <td>0</td>\n",
       "      <td>0</td>\n",
       "      <td>0</td>\n",
       "      <td>0</td>\n",
       "      <td>0</td>\n",
       "      <td>...</td>\n",
       "      <td>0</td>\n",
       "      <td>0</td>\n",
       "      <td>0</td>\n",
       "      <td>0</td>\n",
       "      <td>0</td>\n",
       "      <td>0</td>\n",
       "      <td>0</td>\n",
       "      <td>0</td>\n",
       "      <td>0</td>\n",
       "      <td>0</td>\n",
       "    </tr>\n",
       "    <tr>\n",
       "      <th>2</th>\n",
       "      <td>0</td>\n",
       "      <td>0</td>\n",
       "      <td>0</td>\n",
       "      <td>0</td>\n",
       "      <td>0</td>\n",
       "      <td>0</td>\n",
       "      <td>0</td>\n",
       "      <td>0</td>\n",
       "      <td>0</td>\n",
       "      <td>0</td>\n",
       "      <td>...</td>\n",
       "      <td>0</td>\n",
       "      <td>0</td>\n",
       "      <td>0</td>\n",
       "      <td>0</td>\n",
       "      <td>0</td>\n",
       "      <td>0</td>\n",
       "      <td>0</td>\n",
       "      <td>0</td>\n",
       "      <td>0</td>\n",
       "      <td>0</td>\n",
       "    </tr>\n",
       "    <tr>\n",
       "      <th>3</th>\n",
       "      <td>0</td>\n",
       "      <td>0</td>\n",
       "      <td>0</td>\n",
       "      <td>0</td>\n",
       "      <td>0</td>\n",
       "      <td>0</td>\n",
       "      <td>0</td>\n",
       "      <td>0</td>\n",
       "      <td>0</td>\n",
       "      <td>0</td>\n",
       "      <td>...</td>\n",
       "      <td>0</td>\n",
       "      <td>0</td>\n",
       "      <td>0</td>\n",
       "      <td>0</td>\n",
       "      <td>0</td>\n",
       "      <td>0</td>\n",
       "      <td>0</td>\n",
       "      <td>0</td>\n",
       "      <td>0</td>\n",
       "      <td>0</td>\n",
       "    </tr>\n",
       "    <tr>\n",
       "      <th>4</th>\n",
       "      <td>0</td>\n",
       "      <td>0</td>\n",
       "      <td>0</td>\n",
       "      <td>0</td>\n",
       "      <td>0</td>\n",
       "      <td>0</td>\n",
       "      <td>0</td>\n",
       "      <td>0</td>\n",
       "      <td>0</td>\n",
       "      <td>0</td>\n",
       "      <td>...</td>\n",
       "      <td>0</td>\n",
       "      <td>0</td>\n",
       "      <td>0</td>\n",
       "      <td>0</td>\n",
       "      <td>0</td>\n",
       "      <td>0</td>\n",
       "      <td>0</td>\n",
       "      <td>0</td>\n",
       "      <td>0</td>\n",
       "      <td>0</td>\n",
       "    </tr>\n",
       "  </tbody>\n",
       "</table>\n",
       "<p>5 rows × 784 columns</p>\n",
       "</div>"
      ],
      "text/plain": [
       "   pixel0  pixel1  pixel2  pixel3  pixel4  pixel5  pixel6  pixel7  pixel8  \\\n",
       "0       0       0       0       0       0       0       0       0       0   \n",
       "1       0       0       0       0       0       0       0       0       0   \n",
       "2       0       0       0       0       0       0       0       0       0   \n",
       "3       0       0       0       0       0       0       0       0       0   \n",
       "4       0       0       0       0       0       0       0       0       0   \n",
       "\n",
       "   pixel9    ...     pixel774  pixel775  pixel776  pixel777  pixel778  \\\n",
       "0       0    ...            0         0         0         0         0   \n",
       "1       0    ...            0         0         0         0         0   \n",
       "2       0    ...            0         0         0         0         0   \n",
       "3       0    ...            0         0         0         0         0   \n",
       "4       0    ...            0         0         0         0         0   \n",
       "\n",
       "   pixel779  pixel780  pixel781  pixel782  pixel783  \n",
       "0         0         0         0         0         0  \n",
       "1         0         0         0         0         0  \n",
       "2         0         0         0         0         0  \n",
       "3         0         0         0         0         0  \n",
       "4         0         0         0         0         0  \n",
       "\n",
       "[5 rows x 784 columns]"
      ]
     },
     "execution_count": 14,
     "metadata": {},
     "output_type": "execute_result"
    }
   ],
   "source": [
    "test = pd.read_csv(path+\"test.csv\")\n",
    "test.head()"
   ]
  },
  {
   "cell_type": "markdown",
   "metadata": {},
   "source": [
    "## Normalize"
   ]
  },
  {
   "cell_type": "code",
   "execution_count": 8,
   "metadata": {
    "collapsed": true
   },
   "outputs": [],
   "source": [
    "Y_train = training['label'].values"
   ]
  },
  {
   "cell_type": "code",
   "execution_count": 9,
   "metadata": {
    "collapsed": false
   },
   "outputs": [
    {
     "data": {
      "text/plain": [
       "array([1, 0, 1, ..., 7, 6, 9])"
      ]
     },
     "execution_count": 9,
     "metadata": {},
     "output_type": "execute_result"
    }
   ],
   "source": [
    "Y_train"
   ]
  },
  {
   "cell_type": "code",
   "execution_count": 10,
   "metadata": {
    "collapsed": false
   },
   "outputs": [],
   "source": [
    "X_train = training.iloc[:,1:].values\n",
    "X_train = X_train.reshape(X_train.shape[0], 28, 28, 1) #reshape to rectangular\n",
    "X_train = X_train/255 #pixel values are 0 - 255 - this makes puts them in the range 0 - 1"
   ]
  },
  {
   "cell_type": "code",
   "execution_count": 11,
   "metadata": {
    "collapsed": false
   },
   "outputs": [],
   "source": [
    "X_val = X_train[32000:]"
   ]
  },
  {
   "cell_type": "code",
   "execution_count": 12,
   "metadata": {
    "collapsed": true
   },
   "outputs": [],
   "source": [
    "X_train = X_train[0:32000]"
   ]
  },
  {
   "cell_type": "code",
   "execution_count": 13,
   "metadata": {
    "collapsed": true
   },
   "outputs": [],
   "source": [
    "Y_val = Y_train[32000:]\n",
    "Y_train = Y_train[0:32000]"
   ]
  },
  {
   "cell_type": "code",
   "execution_count": 15,
   "metadata": {
    "collapsed": false
   },
   "outputs": [],
   "source": [
    "X_test = test.iloc[:,0:].values\n",
    "X_test = X_test.reshape(X_test.shape[0], 28, 28, 1) #reshape to rectangular\n",
    "X_test = X_test/255 #pixel values are 0 - 255 - this makes puts them in the range 0 - 1"
   ]
  },
  {
   "cell_type": "code",
   "execution_count": 16,
   "metadata": {
    "collapsed": false
   },
   "outputs": [
    {
     "data": {
      "text/plain": [
       "((32000, 28, 28, 1), (32000,), (10000, 28, 28, 1), (10000,))"
      ]
     },
     "execution_count": 16,
     "metadata": {},
     "output_type": "execute_result"
    }
   ],
   "source": [
    "(X_train.shape, Y_train.shape, X_val.shape, Y_val.shape)"
   ]
  },
  {
   "cell_type": "markdown",
   "metadata": {},
   "source": [
    "To match the axis that theano expects (channel on axis 1)"
   ]
  },
  {
   "cell_type": "code",
   "execution_count": 17,
   "metadata": {
    "collapsed": false,
    "hidden": true
   },
   "outputs": [],
   "source": [
    "X_train = np.expand_dims(X_train,1)\n",
    "X_val = np.expand_dims(X_val,1)"
   ]
  },
  {
   "cell_type": "code",
   "execution_count": 18,
   "metadata": {
    "collapsed": false
   },
   "outputs": [],
   "source": [
    "X_train = np.squeeze(X_train,4)\n",
    "X_val = np.squeeze(X_val,4)"
   ]
  },
  {
   "cell_type": "code",
   "execution_count": 19,
   "metadata": {
    "collapsed": false,
    "hidden": true
   },
   "outputs": [
    {
     "data": {
      "text/plain": [
       "((32000, 1, 28, 28), (32000,), (10000, 1, 28, 28), (10000,))"
      ]
     },
     "execution_count": 19,
     "metadata": {},
     "output_type": "execute_result"
    }
   ],
   "source": [
    "(X_train.shape, Y_train.shape, X_val.shape, Y_val.shape)"
   ]
  },
  {
   "cell_type": "markdown",
   "metadata": {},
   "source": [
    "As expected from theano"
   ]
  },
  {
   "cell_type": "code",
   "execution_count": 20,
   "metadata": {
    "collapsed": true,
    "hidden": true
   },
   "outputs": [],
   "source": [
    "Y_train = onehot(Y_train)\n",
    "Y_val = onehot(Y_val)"
   ]
  },
  {
   "cell_type": "code",
   "execution_count": 21,
   "metadata": {
    "collapsed": false,
    "hidden": true
   },
   "outputs": [
    {
     "data": {
      "text/plain": [
       "array([[ 0.,  1.,  0.,  0.,  0.,  0.,  0.,  0.,  0.,  0.],\n",
       "       [ 1.,  0.,  0.,  0.,  0.,  0.,  0.,  0.,  0.,  0.],\n",
       "       [ 0.,  1.,  0.,  0.,  0.,  0.,  0.,  0.,  0.,  0.],\n",
       "       [ 0.,  0.,  0.,  0.,  1.,  0.,  0.,  0.,  0.,  0.],\n",
       "       [ 1.,  0.,  0.,  0.,  0.,  0.,  0.,  0.,  0.,  0.]])"
      ]
     },
     "execution_count": 21,
     "metadata": {},
     "output_type": "execute_result"
    }
   ],
   "source": [
    "Y_train[:5]"
   ]
  },
  {
   "cell_type": "code",
   "execution_count": 22,
   "metadata": {
    "collapsed": false,
    "hidden": true
   },
   "outputs": [],
   "source": [
    "mean_px = X_train.mean().astype(np.float32)\n",
    "std_px = X_train.std().astype(np.float32)"
   ]
  },
  {
   "cell_type": "code",
   "execution_count": 23,
   "metadata": {
    "collapsed": true,
    "hidden": true
   },
   "outputs": [],
   "source": [
    "def norm_input(x): return (x-mean_px)/std_px"
   ]
  },
  {
   "cell_type": "markdown",
   "metadata": {},
   "source": [
    "## A look at the data"
   ]
  },
  {
   "cell_type": "code",
   "execution_count": 39,
   "metadata": {
    "collapsed": true
   },
   "outputs": [],
   "source": [
    "def plots(ims, interp=False, titles=None):\n",
    "    ims=np.array(ims)\n",
    "    mn,mx=ims.min(),ims.max()\n",
    "    f = plt.figure(figsize=(12,24))\n",
    "    for i in range(len(ims)):\n",
    "        sp=f.add_subplot(1, len(ims), i+1)\n",
    "        if not titles is None: sp.set_title(titles[i], fontsize=18)\n",
    "        plt.imshow(ims[i], interpolation=None if interp else 'none', vmin=mn,vmax=mx)\n",
    "\n",
    "def plot(im, interp=False):\n",
    "    f = plt.figure(figsize=(3,6), frameon=True)\n",
    "    plt.imshow(im, interpolation=None if interp else 'none')\n",
    "    \n",
    "plt.gray()\n",
    "plt.close()"
   ]
  },
  {
   "cell_type": "code",
   "execution_count": 30,
   "metadata": {
    "collapsed": false
   },
   "outputs": [],
   "source": [
    "digits = np.squeeze(X_train, 1)"
   ]
  },
  {
   "cell_type": "code",
   "execution_count": 31,
   "metadata": {
    "collapsed": false
   },
   "outputs": [
    {
     "data": {
      "text/plain": [
       "(32000, 28, 28)"
      ]
     },
     "execution_count": 31,
     "metadata": {},
     "output_type": "execute_result"
    }
   ],
   "source": [
    "digits.shape"
   ]
  },
  {
   "cell_type": "code",
   "execution_count": 44,
   "metadata": {
    "collapsed": false
   },
   "outputs": [
    {
     "data": {
      "image/png": "[encoded data removed]",
      "text/plain": [
       "<matplotlib.figure.Figure at 0x7fe137d7f810>"
      ]
     },
     "metadata": {},
     "output_type": "display_data"
    }
   ],
   "source": [
    "plots(digits[0:8], titles=Y_train.argmax(axis=1)[0:8])"
   ]
  },
  {
   "cell_type": "markdown",
   "metadata": {
    "heading_collapsed": true
   },
   "source": [
    "## Batchnorm + dropout + data augmentation"
   ]
  },
  {
   "cell_type": "code",
   "execution_count": 27,
   "metadata": {
    "collapsed": false,
    "hidden": true
   },
   "outputs": [],
   "source": [
    "def get_model_bn_do():\n",
    "    model = Sequential([\n",
    "        Lambda(norm_input, input_shape=(1,28,28)),\n",
    "        Convolution2D(32,3,3, activation='relu'),\n",
    "        BatchNormalization(axis=1),\n",
    "        Convolution2D(32,3,3, activation='relu'),\n",
    "        MaxPooling2D(),\n",
    "        BatchNormalization(axis=1),\n",
    "        Convolution2D(64,3,3, activation='relu'),\n",
    "        BatchNormalization(axis=1),\n",
    "        Convolution2D(64,3,3, activation='relu'),\n",
    "        MaxPooling2D(),\n",
    "        Flatten(),\n",
    "        BatchNormalization(),\n",
    "        Dense(512, activation='relu'),\n",
    "        BatchNormalization(),\n",
    "        Dropout(0.5),\n",
    "        Dense(10, activation='softmax')\n",
    "        ])\n",
    "    model.compile(Adam(), loss='categorical_crossentropy', metrics=['accuracy'])\n",
    "    return model"
   ]
  },
  {
   "cell_type": "markdown",
   "metadata": {},
   "source": [
    "## Ensembling"
   ]
  },
  {
   "cell_type": "code",
   "execution_count": 34,
   "metadata": {
    "collapsed": true
   },
   "outputs": [],
   "source": [
    "def fit_model():\n",
    "    model = get_model_bn_do()\n",
    "    model.fit_generator(batches, batches.N, nb_epoch=1,\n",
    "                    validation_data=val_batches, nb_val_samples=val_batches.N)\n",
    "    model.optimizer.lr=0.1\n",
    "    model.fit_generator(batches, batches.N, nb_epoch=4,\n",
    "                    validation_data=val_batches, nb_val_samples=val_batches.N)\n",
    "    model.optimizer.lr=0.01\n",
    "    model.fit_generator(batches, batches.N, nb_epoch=12,\n",
    "                    validation_data=val_batches, nb_val_samples=val_batches.N)\n",
    "    model.optimizer.lr=0.001\n",
    "    model.fit_generator(batches, batches.N, nb_epoch=18,\n",
    "                    validation_data=val_batches, nb_val_samples=val_batches.N)\n",
    "    return model"
   ]
  },
  {
   "cell_type": "code",
   "execution_count": 35,
   "metadata": {
    "collapsed": false
   },
   "outputs": [
    {
     "name": "stderr",
     "output_type": "stream",
     "text": [
      "/home/ubuntu/anaconda2/lib/python2.7/site-packages/keras/layers/core.py:577: UserWarning: `output_shape` argument not specified for layer lambda_5 and cannot be automatically inferred with the Theano backend. Defaulting to output shape `(None, 1, 28, 28)` (same as input shape). If the expected output shape is different, specify it via the `output_shape` argument.\n",
      "  .format(self.name, input_shape))\n"
     ]
    },
    {
     "name": "stdout",
     "output_type": "stream",
     "text": [
      "Epoch 1/1\n",
      "32000/32000 [==============================] - 22s - loss: 0.1446 - acc: 0.9568 - val_loss: 0.0754 - val_acc: 0.9777\n",
      "Epoch 1/4\n",
      "32000/32000 [==============================] - 22s - loss: 0.0520 - acc: 0.9837 - val_loss: 0.0434 - val_acc: 0.9877\n",
      "Epoch 2/4\n",
      "32000/32000 [==============================] - 22s - loss: 0.0317 - acc: 0.9900 - val_loss: 0.0478 - val_acc: 0.9870\n",
      "Epoch 3/4\n",
      "32000/32000 [==============================] - 21s - loss: 0.0267 - acc: 0.9914 - val_loss: 0.0348 - val_acc: 0.9903\n",
      "Epoch 4/4\n",
      "32000/32000 [==============================] - 21s - loss: 0.0251 - acc: 0.9916 - val_loss: 0.0422 - val_acc: 0.9894\n",
      "Epoch 1/12\n",
      "32000/32000 [==============================] - 22s - loss: 0.0182 - acc: 0.9937 - val_loss: 0.0454 - val_acc: 0.9877\n",
      "Epoch 2/12\n",
      "32000/32000 [==============================] - 22s - loss: 0.0198 - acc: 0.9933 - val_loss: 0.0423 - val_acc: 0.9894\n",
      "Epoch 3/12\n",
      "32000/32000 [==============================] - 21s - loss: 0.0168 - acc: 0.9942 - val_loss: 0.0352 - val_acc: 0.9906\n",
      "Epoch 4/12\n",
      "32000/32000 [==============================] - 21s - loss: 0.0152 - acc: 0.9953 - val_loss: 0.0450 - val_acc: 0.9889\n",
      "Epoch 5/12\n",
      "32000/32000 [==============================] - 21s - loss: 0.0142 - acc: 0.9954 - val_loss: 0.0580 - val_acc: 0.9885\n",
      "Epoch 6/12\n",
      "32000/32000 [==============================] - 22s - loss: 0.0136 - acc: 0.9952 - val_loss: 0.0403 - val_acc: 0.9912\n",
      "Epoch 7/12\n",
      "32000/32000 [==============================] - 21s - loss: 0.0124 - acc: 0.9957 - val_loss: 0.0404 - val_acc: 0.9901\n",
      "Epoch 8/12\n",
      "32000/32000 [==============================] - 22s - loss: 0.0090 - acc: 0.9971 - val_loss: 0.0455 - val_acc: 0.9898\n",
      "Epoch 9/12\n",
      "32000/32000 [==============================] - 21s - loss: 0.0114 - acc: 0.9960 - val_loss: 0.0510 - val_acc: 0.9902\n",
      "Epoch 10/12\n",
      "32000/32000 [==============================] - 21s - loss: 0.0093 - acc: 0.9969 - val_loss: 0.0533 - val_acc: 0.9887\n",
      "Epoch 11/12\n",
      "32000/32000 [==============================] - 21s - loss: 0.0126 - acc: 0.9961 - val_loss: 0.0440 - val_acc: 0.9909\n",
      "Epoch 12/12\n",
      "32000/32000 [==============================] - 22s - loss: 0.0099 - acc: 0.9970 - val_loss: 0.0444 - val_acc: 0.9919\n",
      "Epoch 1/18\n",
      "32000/32000 [==============================] - 22s - loss: 0.0090 - acc: 0.9971 - val_loss: 0.0540 - val_acc: 0.9904\n",
      "Epoch 2/18\n",
      "32000/32000 [==============================] - 22s - loss: 0.0076 - acc: 0.9978 - val_loss: 0.0401 - val_acc: 0.9908\n",
      "Epoch 3/18\n",
      "32000/32000 [==============================] - 22s - loss: 0.0068 - acc: 0.9980 - val_loss: 0.0424 - val_acc: 0.9907\n",
      "Epoch 4/18\n",
      "32000/32000 [==============================] - 22s - loss: 0.0100 - acc: 0.9967 - val_loss: 0.0550 - val_acc: 0.9907\n",
      "Epoch 5/18\n",
      "32000/32000 [==============================] - 21s - loss: 0.0070 - acc: 0.9974 - val_loss: 0.0474 - val_acc: 0.9899\n",
      "Epoch 6/18\n",
      "32000/32000 [==============================] - 22s - loss: 0.0033 - acc: 0.9989 - val_loss: 0.0373 - val_acc: 0.9925\n",
      "Epoch 7/18\n",
      "32000/32000 [==============================] - 21s - loss: 0.0046 - acc: 0.9986 - val_loss: 0.0437 - val_acc: 0.9922\n",
      "Epoch 8/18\n",
      "32000/32000 [==============================] - 22s - loss: 0.0066 - acc: 0.9977 - val_loss: 0.0510 - val_acc: 0.9898\n",
      "Epoch 9/18\n",
      "32000/32000 [==============================] - 21s - loss: 0.0087 - acc: 0.9973 - val_loss: 0.0409 - val_acc: 0.9920\n",
      "Epoch 10/18\n",
      "32000/32000 [==============================] - 21s - loss: 0.0053 - acc: 0.9985 - val_loss: 0.0435 - val_acc: 0.9915\n",
      "Epoch 11/18\n",
      "32000/32000 [==============================] - 21s - loss: 0.0051 - acc: 0.9982 - val_loss: 0.0419 - val_acc: 0.9916\n",
      "Epoch 12/18\n",
      "32000/32000 [==============================] - 21s - loss: 0.0038 - acc: 0.9989 - val_loss: 0.0356 - val_acc: 0.9922\n",
      "Epoch 13/18\n",
      "32000/32000 [==============================] - 22s - loss: 0.0046 - acc: 0.9985 - val_loss: 0.0437 - val_acc: 0.9914\n",
      "Epoch 14/18\n",
      "32000/32000 [==============================] - 21s - loss: 0.0049 - acc: 0.9987 - val_loss: 0.0413 - val_acc: 0.9935\n",
      "Epoch 15/18\n",
      "32000/32000 [==============================] - 21s - loss: 0.0044 - acc: 0.9987 - val_loss: 0.0462 - val_acc: 0.9920\n",
      "Epoch 16/18\n",
      "32000/32000 [==============================] - 21s - loss: 0.0066 - acc: 0.9982 - val_loss: 0.0585 - val_acc: 0.9921\n",
      "Epoch 17/18\n",
      "32000/32000 [==============================] - 22s - loss: 0.0042 - acc: 0.9985 - val_loss: 0.0475 - val_acc: 0.9933\n",
      "Epoch 18/18\n",
      "32000/32000 [==============================] - 22s - loss: 0.0037 - acc: 0.9990 - val_loss: 0.0440 - val_acc: 0.9932\n"
     ]
    },
    {
     "name": "stderr",
     "output_type": "stream",
     "text": [
      "/home/ubuntu/anaconda2/lib/python2.7/site-packages/keras/layers/core.py:577: UserWarning: `output_shape` argument not specified for layer lambda_6 and cannot be automatically inferred with the Theano backend. Defaulting to output shape `(None, 1, 28, 28)` (same as input shape). If the expected output shape is different, specify it via the `output_shape` argument.\n",
      "  .format(self.name, input_shape))\n"
     ]
    },
    {
     "name": "stdout",
     "output_type": "stream",
     "text": [
      "Epoch 1/1\n",
      "32000/32000 [==============================] - 21s - loss: 0.1448 - acc: 0.9562 - val_loss: 0.0645 - val_acc: 0.9804\n",
      "Epoch 1/4\n",
      "32000/32000 [==============================] - 22s - loss: 0.0503 - acc: 0.9840 - val_loss: 0.0421 - val_acc: 0.9876\n",
      "Epoch 2/4\n",
      "32000/32000 [==============================] - 22s - loss: 0.0346 - acc: 0.9888 - val_loss: 0.0432 - val_acc: 0.9885\n",
      "Epoch 3/4\n",
      "32000/32000 [==============================] - 22s - loss: 0.0219 - acc: 0.9933 - val_loss: 0.0452 - val_acc: 0.9881\n",
      "Epoch 4/4\n",
      "32000/32000 [==============================] - 22s - loss: 0.0228 - acc: 0.9929 - val_loss: 0.0429 - val_acc: 0.9888\n",
      "Epoch 1/12\n",
      "32000/32000 [==============================] - 22s - loss: 0.0199 - acc: 0.9935 - val_loss: 0.0437 - val_acc: 0.9901\n",
      "Epoch 2/12\n",
      "32000/32000 [==============================] - 22s - loss: 0.0171 - acc: 0.9944 - val_loss: 0.0498 - val_acc: 0.9877\n",
      "Epoch 3/12\n",
      "32000/32000 [==============================] - 22s - loss: 0.0157 - acc: 0.9952 - val_loss: 0.0420 - val_acc: 0.9897\n",
      "Epoch 4/12\n",
      "32000/32000 [==============================] - 22s - loss: 0.0171 - acc: 0.9947 - val_loss: 0.0366 - val_acc: 0.9921\n",
      "Epoch 5/12\n",
      "32000/32000 [==============================] - 22s - loss: 0.0099 - acc: 0.9968 - val_loss: 0.0408 - val_acc: 0.9908\n",
      "Epoch 6/12\n",
      "32000/32000 [==============================] - 22s - loss: 0.0162 - acc: 0.9944 - val_loss: 0.0482 - val_acc: 0.9902\n",
      "Epoch 7/12\n",
      "32000/32000 [==============================] - 22s - loss: 0.0128 - acc: 0.9959 - val_loss: 0.0393 - val_acc: 0.9915\n",
      "Epoch 8/12\n",
      "32000/32000 [==============================] - 22s - loss: 0.0081 - acc: 0.9976 - val_loss: 0.0402 - val_acc: 0.9911\n",
      "Epoch 9/12\n",
      "32000/32000 [==============================] - 22s - loss: 0.0128 - acc: 0.9957 - val_loss: 0.0379 - val_acc: 0.9927\n",
      "Epoch 10/12\n",
      "32000/32000 [==============================] - 22s - loss: 0.0119 - acc: 0.9962 - val_loss: 0.0348 - val_acc: 0.9927\n",
      "Epoch 11/12\n",
      "32000/32000 [==============================] - 22s - loss: 0.0071 - acc: 0.9980 - val_loss: 0.0383 - val_acc: 0.9920\n",
      "Epoch 12/12\n",
      "32000/32000 [==============================] - 21s - loss: 0.0099 - acc: 0.9968 - val_loss: 0.0485 - val_acc: 0.9910\n",
      "Epoch 1/18\n",
      "32000/32000 [==============================] - 21s - loss: 0.0086 - acc: 0.9972 - val_loss: 0.0466 - val_acc: 0.9916\n",
      "Epoch 2/18\n",
      "32000/32000 [==============================] - 22s - loss: 0.0083 - acc: 0.9973 - val_loss: 0.0439 - val_acc: 0.9914\n",
      "Epoch 3/18\n",
      "32000/32000 [==============================] - 21s - loss: 0.0094 - acc: 0.9968 - val_loss: 0.0455 - val_acc: 0.9923\n",
      "Epoch 4/18\n",
      "32000/32000 [==============================] - 21s - loss: 0.0081 - acc: 0.9975 - val_loss: 0.0437 - val_acc: 0.9915\n",
      "Epoch 5/18\n",
      "32000/32000 [==============================] - 21s - loss: 0.0083 - acc: 0.9972 - val_loss: 0.0454 - val_acc: 0.9904\n",
      "Epoch 6/18\n",
      "32000/32000 [==============================] - 21s - loss: 0.0081 - acc: 0.9976 - val_loss: 0.0373 - val_acc: 0.9937\n",
      "Epoch 7/18\n",
      "32000/32000 [==============================] - 21s - loss: 0.0074 - acc: 0.9978 - val_loss: 0.0388 - val_acc: 0.9925\n",
      "Epoch 8/18\n",
      "32000/32000 [==============================] - 21s - loss: 0.0054 - acc: 0.9982 - val_loss: 0.0425 - val_acc: 0.9929\n",
      "Epoch 9/18\n",
      "32000/32000 [==============================] - 22s - loss: 0.0055 - acc: 0.9981 - val_loss: 0.0379 - val_acc: 0.9935\n",
      "Epoch 10/18\n",
      "32000/32000 [==============================] - 22s - loss: 0.0043 - acc: 0.9986 - val_loss: 0.0302 - val_acc: 0.9937\n",
      "Epoch 11/18\n",
      "32000/32000 [==============================] - 22s - loss: 0.0038 - acc: 0.9987 - val_loss: 0.0454 - val_acc: 0.9920\n",
      "Epoch 12/18\n",
      "32000/32000 [==============================] - 22s - loss: 0.0059 - acc: 0.9984 - val_loss: 0.0487 - val_acc: 0.9905\n",
      "Epoch 13/18\n",
      "32000/32000 [==============================] - 21s - loss: 0.0064 - acc: 0.9980 - val_loss: 0.0401 - val_acc: 0.9922\n",
      "Epoch 14/18\n",
      "32000/32000 [==============================] - 21s - loss: 0.0046 - acc: 0.9988 - val_loss: 0.0546 - val_acc: 0.9912\n",
      "Epoch 15/18\n",
      "32000/32000 [==============================] - 22s - loss: 0.0052 - acc: 0.9987 - val_loss: 0.0456 - val_acc: 0.9919\n",
      "Epoch 16/18\n",
      "32000/32000 [==============================] - 21s - loss: 0.0051 - acc: 0.9984 - val_loss: 0.0512 - val_acc: 0.9901\n",
      "Epoch 17/18\n",
      "32000/32000 [==============================] - 21s - loss: 0.0067 - acc: 0.9978 - val_loss: 0.0390 - val_acc: 0.9940\n",
      "Epoch 18/18\n",
      "32000/32000 [==============================] - 22s - loss: 0.0051 - acc: 0.9986 - val_loss: 0.0411 - val_acc: 0.9923\n"
     ]
    },
    {
     "name": "stderr",
     "output_type": "stream",
     "text": [
      "/home/ubuntu/anaconda2/lib/python2.7/site-packages/keras/layers/core.py:577: UserWarning: `output_shape` argument not specified for layer lambda_7 and cannot be automatically inferred with the Theano backend. Defaulting to output shape `(None, 1, 28, 28)` (same as input shape). If the expected output shape is different, specify it via the `output_shape` argument.\n",
      "  .format(self.name, input_shape))\n"
     ]
    },
    {
     "name": "stdout",
     "output_type": "stream",
     "text": [
      "Epoch 1/1\n",
      "32000/32000 [==============================] - 22s - loss: 0.1554 - acc: 0.9539 - val_loss: 0.0837 - val_acc: 0.9740\n",
      "Epoch 1/4\n",
      "32000/32000 [==============================] - 22s - loss: 0.0494 - acc: 0.9850 - val_loss: 0.0689 - val_acc: 0.9802\n",
      "Epoch 2/4\n",
      "32000/32000 [==============================] - 22s - loss: 0.0344 - acc: 0.9888 - val_loss: 0.0379 - val_acc: 0.9884\n",
      "Epoch 3/4\n",
      "32000/32000 [==============================] - 21s - loss: 0.0257 - acc: 0.9914 - val_loss: 0.0424 - val_acc: 0.9884\n",
      "Epoch 4/4\n",
      "32000/32000 [==============================] - 21s - loss: 0.0239 - acc: 0.9924 - val_loss: 0.0508 - val_acc: 0.9875\n",
      "Epoch 1/12\n",
      "32000/32000 [==============================] - 22s - loss: 0.0188 - acc: 0.9935 - val_loss: 0.0353 - val_acc: 0.9907\n",
      "Epoch 2/12\n",
      "32000/32000 [==============================] - 21s - loss: 0.0145 - acc: 0.9952 - val_loss: 0.0520 - val_acc: 0.9856\n",
      "Epoch 3/12\n",
      "32000/32000 [==============================] - 22s - loss: 0.0193 - acc: 0.9940 - val_loss: 0.0477 - val_acc: 0.9874\n",
      "Epoch 4/12\n",
      "32000/32000 [==============================] - 22s - loss: 0.0162 - acc: 0.9946 - val_loss: 0.0383 - val_acc: 0.9910\n",
      "Epoch 5/12\n",
      "32000/32000 [==============================] - 22s - loss: 0.0143 - acc: 0.9948 - val_loss: 0.0373 - val_acc: 0.9904\n",
      "Epoch 6/12\n",
      "32000/32000 [==============================] - 22s - loss: 0.0116 - acc: 0.9961 - val_loss: 0.0337 - val_acc: 0.9925\n",
      "Epoch 7/12\n",
      "32000/32000 [==============================] - 22s - loss: 0.0132 - acc: 0.9954 - val_loss: 0.0571 - val_acc: 0.9882\n",
      "Epoch 8/12\n",
      "32000/32000 [==============================] - 22s - loss: 0.0097 - acc: 0.9968 - val_loss: 0.0368 - val_acc: 0.9912\n",
      "Epoch 9/12\n",
      "32000/32000 [==============================] - 22s - loss: 0.0114 - acc: 0.9959 - val_loss: 0.0404 - val_acc: 0.9913\n",
      "Epoch 10/12\n",
      "32000/32000 [==============================] - 22s - loss: 0.0104 - acc: 0.9968 - val_loss: 0.0367 - val_acc: 0.9925\n",
      "Epoch 11/12\n",
      "32000/32000 [==============================] - 22s - loss: 0.0063 - acc: 0.9981 - val_loss: 0.0526 - val_acc: 0.9877\n",
      "Epoch 12/12\n",
      "32000/32000 [==============================] - 22s - loss: 0.0100 - acc: 0.9966 - val_loss: 0.0426 - val_acc: 0.9913\n",
      "Epoch 1/18\n",
      "32000/32000 [==============================] - 22s - loss: 0.0083 - acc: 0.9970 - val_loss: 0.0375 - val_acc: 0.9923\n",
      "Epoch 2/18\n",
      "32000/32000 [==============================] - 22s - loss: 0.0078 - acc: 0.9975 - val_loss: 0.0358 - val_acc: 0.9935\n",
      "Epoch 3/18\n",
      "32000/32000 [==============================] - 22s - loss: 0.0074 - acc: 0.9978 - val_loss: 0.0461 - val_acc: 0.9911\n",
      "Epoch 4/18\n",
      "32000/32000 [==============================] - 22s - loss: 0.0076 - acc: 0.9978 - val_loss: 0.0413 - val_acc: 0.9921\n",
      "Epoch 5/18\n",
      "32000/32000 [==============================] - 22s - loss: 0.0070 - acc: 0.9976 - val_loss: 0.0413 - val_acc: 0.9916\n",
      "Epoch 6/18\n",
      "32000/32000 [==============================] - 22s - loss: 0.0069 - acc: 0.9979 - val_loss: 0.0410 - val_acc: 0.9919\n",
      "Epoch 7/18\n",
      "32000/32000 [==============================] - 22s - loss: 0.0089 - acc: 0.9970 - val_loss: 0.0446 - val_acc: 0.9913\n",
      "Epoch 8/18\n",
      "32000/32000 [==============================] - 22s - loss: 0.0074 - acc: 0.9974 - val_loss: 0.0323 - val_acc: 0.9927\n",
      "Epoch 9/18\n",
      "32000/32000 [==============================] - 21s - loss: 0.0047 - acc: 0.9985 - val_loss: 0.0404 - val_acc: 0.9919\n",
      "Epoch 10/18\n",
      "32000/32000 [==============================] - 22s - loss: 0.0053 - acc: 0.9982 - val_loss: 0.0521 - val_acc: 0.9902\n",
      "Epoch 11/18\n",
      "32000/32000 [==============================] - 22s - loss: 0.0053 - acc: 0.9983 - val_loss: 0.0424 - val_acc: 0.9923\n",
      "Epoch 12/18\n",
      "32000/32000 [==============================] - 21s - loss: 0.0062 - acc: 0.9982 - val_loss: 0.0460 - val_acc: 0.9922\n",
      "Epoch 13/18\n",
      "32000/32000 [==============================] - 22s - loss: 0.0059 - acc: 0.9983 - val_loss: 0.0461 - val_acc: 0.9922\n",
      "Epoch 14/18\n",
      "32000/32000 [==============================] - 22s - loss: 0.0046 - acc: 0.9986 - val_loss: 0.0525 - val_acc: 0.9912\n",
      "Epoch 15/18\n",
      "32000/32000 [==============================] - 22s - loss: 0.0047 - acc: 0.9986 - val_loss: 0.0386 - val_acc: 0.9933\n",
      "Epoch 16/18\n",
      "32000/32000 [==============================] - 22s - loss: 0.0042 - acc: 0.9986 - val_loss: 0.0442 - val_acc: 0.9926\n",
      "Epoch 17/18\n",
      "32000/32000 [==============================] - 21s - loss: 0.0064 - acc: 0.9981 - val_loss: 0.0553 - val_acc: 0.9900\n",
      "Epoch 18/18\n",
      "32000/32000 [==============================] - 22s - loss: 0.0056 - acc: 0.9981 - val_loss: 0.0416 - val_acc: 0.9925\n"
     ]
    },
    {
     "name": "stderr",
     "output_type": "stream",
     "text": [
      "/home/ubuntu/anaconda2/lib/python2.7/site-packages/keras/layers/core.py:577: UserWarning: `output_shape` argument not specified for layer lambda_8 and cannot be automatically inferred with the Theano backend. Defaulting to output shape `(None, 1, 28, 28)` (same as input shape). If the expected output shape is different, specify it via the `output_shape` argument.\n",
      "  .format(self.name, input_shape))\n"
     ]
    },
    {
     "name": "stdout",
     "output_type": "stream",
     "text": [
      "Epoch 1/1\n",
      "32000/32000 [==============================] - 22s - loss: 0.1457 - acc: 0.9561 - val_loss: 0.0952 - val_acc: 0.9712\n",
      "Epoch 1/4\n",
      "32000/32000 [==============================] - 22s - loss: 0.0516 - acc: 0.9839 - val_loss: 0.0349 - val_acc: 0.9886\n",
      "Epoch 2/4\n",
      "32000/32000 [==============================] - 22s - loss: 0.0339 - acc: 0.9890 - val_loss: 0.0358 - val_acc: 0.9906\n",
      "Epoch 3/4\n",
      "32000/32000 [==============================] - 22s - loss: 0.0238 - acc: 0.9923 - val_loss: 0.0423 - val_acc: 0.9871\n",
      "Epoch 4/4\n",
      "32000/32000 [==============================] - 22s - loss: 0.0215 - acc: 0.9930 - val_loss: 0.0513 - val_acc: 0.9884\n",
      "Epoch 1/12\n",
      "32000/32000 [==============================] - 21s - loss: 0.0221 - acc: 0.9928 - val_loss: 0.0328 - val_acc: 0.9923\n",
      "Epoch 2/12\n",
      "32000/32000 [==============================] - 22s - loss: 0.0167 - acc: 0.9942 - val_loss: 0.0376 - val_acc: 0.9906\n",
      "Epoch 3/12\n",
      "32000/32000 [==============================] - 22s - loss: 0.0184 - acc: 0.9937 - val_loss: 0.0467 - val_acc: 0.9890\n",
      "Epoch 4/12\n",
      "32000/32000 [==============================] - 22s - loss: 0.0181 - acc: 0.9939 - val_loss: 0.0569 - val_acc: 0.9859\n",
      "Epoch 5/12\n",
      "32000/32000 [==============================] - 22s - loss: 0.0161 - acc: 0.9948 - val_loss: 0.0430 - val_acc: 0.9906\n",
      "Epoch 6/12\n",
      "32000/32000 [==============================] - 22s - loss: 0.0096 - acc: 0.9967 - val_loss: 0.0376 - val_acc: 0.9929\n",
      "Epoch 7/12\n",
      "32000/32000 [==============================] - 22s - loss: 0.0089 - acc: 0.9971 - val_loss: 0.0337 - val_acc: 0.9923\n",
      "Epoch 8/12\n",
      "32000/32000 [==============================] - 22s - loss: 0.0150 - acc: 0.9951 - val_loss: 0.0474 - val_acc: 0.9908\n",
      "Epoch 9/12\n",
      "32000/32000 [==============================] - 21s - loss: 0.0117 - acc: 0.9965 - val_loss: 0.0296 - val_acc: 0.9934\n",
      "Epoch 10/12\n",
      "32000/32000 [==============================] - 22s - loss: 0.0087 - acc: 0.9972 - val_loss: 0.0473 - val_acc: 0.9912\n",
      "Epoch 11/12\n",
      "32000/32000 [==============================] - 21s - loss: 0.0120 - acc: 0.9960 - val_loss: 0.0477 - val_acc: 0.9895\n",
      "Epoch 12/12\n",
      "32000/32000 [==============================] - 21s - loss: 0.0071 - acc: 0.9976 - val_loss: 0.0482 - val_acc: 0.9906\n",
      "Epoch 1/18\n",
      "32000/32000 [==============================] - 22s - loss: 0.0052 - acc: 0.9983 - val_loss: 0.0389 - val_acc: 0.9915\n",
      "Epoch 2/18\n",
      "32000/32000 [==============================] - 21s - loss: 0.0077 - acc: 0.9974 - val_loss: 0.0473 - val_acc: 0.9904\n",
      "Epoch 3/18\n",
      "32000/32000 [==============================] - 22s - loss: 0.0093 - acc: 0.9972 - val_loss: 0.0581 - val_acc: 0.9877\n",
      "Epoch 4/18\n",
      "32000/32000 [==============================] - 22s - loss: 0.0089 - acc: 0.9968 - val_loss: 0.0419 - val_acc: 0.9905\n",
      "Epoch 5/18\n",
      "32000/32000 [==============================] - 22s - loss: 0.0073 - acc: 0.9978 - val_loss: 0.0376 - val_acc: 0.9921\n",
      "Epoch 6/18\n",
      "32000/32000 [==============================] - 21s - loss: 0.0059 - acc: 0.9983 - val_loss: 0.0468 - val_acc: 0.9922\n",
      "Epoch 7/18\n",
      "32000/32000 [==============================] - 21s - loss: 0.0069 - acc: 0.9977 - val_loss: 0.0429 - val_acc: 0.9914\n",
      "Epoch 8/18\n",
      "32000/32000 [==============================] - 22s - loss: 0.0052 - acc: 0.9984 - val_loss: 0.0494 - val_acc: 0.9917\n",
      "Epoch 9/18\n",
      "32000/32000 [==============================] - 22s - loss: 0.0061 - acc: 0.9982 - val_loss: 0.0470 - val_acc: 0.9918\n",
      "Epoch 10/18\n",
      "32000/32000 [==============================] - 21s - loss: 0.0051 - acc: 0.9985 - val_loss: 0.0423 - val_acc: 0.9925\n",
      "Epoch 11/18\n",
      "32000/32000 [==============================] - 21s - loss: 0.0034 - acc: 0.9990 - val_loss: 0.0411 - val_acc: 0.9931\n",
      "Epoch 12/18\n",
      "32000/32000 [==============================] - 22s - loss: 0.0057 - acc: 0.9984 - val_loss: 0.0480 - val_acc: 0.9910\n",
      "Epoch 13/18\n",
      "32000/32000 [==============================] - 22s - loss: 0.0065 - acc: 0.9980 - val_loss: 0.0464 - val_acc: 0.9926\n",
      "Epoch 14/18\n",
      "32000/32000 [==============================] - 22s - loss: 0.0084 - acc: 0.9977 - val_loss: 0.0537 - val_acc: 0.9913\n",
      "Epoch 15/18\n",
      "32000/32000 [==============================] - 22s - loss: 0.0049 - acc: 0.9983 - val_loss: 0.0530 - val_acc: 0.9909\n",
      "Epoch 16/18\n",
      "32000/32000 [==============================] - 21s - loss: 0.0039 - acc: 0.9988 - val_loss: 0.0415 - val_acc: 0.9924\n",
      "Epoch 17/18\n",
      "32000/32000 [==============================] - 22s - loss: 0.0045 - acc: 0.9987 - val_loss: 0.0516 - val_acc: 0.9914\n",
      "Epoch 18/18\n",
      "32000/32000 [==============================] - 22s - loss: 0.0031 - acc: 0.9990 - val_loss: 0.0437 - val_acc: 0.9928\n"
     ]
    },
    {
     "name": "stderr",
     "output_type": "stream",
     "text": [
      "/home/ubuntu/anaconda2/lib/python2.7/site-packages/keras/layers/core.py:577: UserWarning: `output_shape` argument not specified for layer lambda_9 and cannot be automatically inferred with the Theano backend. Defaulting to output shape `(None, 1, 28, 28)` (same as input shape). If the expected output shape is different, specify it via the `output_shape` argument.\n",
      "  .format(self.name, input_shape))\n"
     ]
    },
    {
     "name": "stdout",
     "output_type": "stream",
     "text": [
      "Epoch 1/1\n",
      "32000/32000 [==============================] - 21s - loss: 0.1571 - acc: 0.9545 - val_loss: 0.0560 - val_acc: 0.9829\n",
      "Epoch 1/4\n",
      "32000/32000 [==============================] - 22s - loss: 0.0519 - acc: 0.9843 - val_loss: 0.0498 - val_acc: 0.9862\n",
      "Epoch 2/4\n",
      "32000/32000 [==============================] - 22s - loss: 0.0333 - acc: 0.9895 - val_loss: 0.0548 - val_acc: 0.9837\n",
      "Epoch 3/4\n",
      "32000/32000 [==============================] - 22s - loss: 0.0269 - acc: 0.9915 - val_loss: 0.0483 - val_acc: 0.9867\n",
      "Epoch 4/4\n",
      "32000/32000 [==============================] - 22s - loss: 0.0205 - acc: 0.9929 - val_loss: 0.0464 - val_acc: 0.9865\n",
      "Epoch 1/12\n",
      "32000/32000 [==============================] - 22s - loss: 0.0196 - acc: 0.9938 - val_loss: 0.0342 - val_acc: 0.9905\n",
      "Epoch 2/12\n",
      "32000/32000 [==============================] - 22s - loss: 0.0175 - acc: 0.9947 - val_loss: 0.0366 - val_acc: 0.9914\n",
      "Epoch 3/12\n",
      "32000/32000 [==============================] - 22s - loss: 0.0164 - acc: 0.9945 - val_loss: 0.0629 - val_acc: 0.9851\n",
      "Epoch 4/12\n",
      "32000/32000 [==============================] - 22s - loss: 0.0166 - acc: 0.9945 - val_loss: 0.0427 - val_acc: 0.9897\n",
      "Epoch 5/12\n",
      "32000/32000 [==============================] - 22s - loss: 0.0129 - acc: 0.9956 - val_loss: 0.0414 - val_acc: 0.9909\n",
      "Epoch 6/12\n",
      "32000/32000 [==============================] - 22s - loss: 0.0143 - acc: 0.9950 - val_loss: 0.0504 - val_acc: 0.9887\n",
      "Epoch 7/12\n",
      "32000/32000 [==============================] - 22s - loss: 0.0129 - acc: 0.9959 - val_loss: 0.0464 - val_acc: 0.9908\n",
      "Epoch 8/12\n",
      "32000/32000 [==============================] - 22s - loss: 0.0098 - acc: 0.9968 - val_loss: 0.0363 - val_acc: 0.9912\n",
      "Epoch 9/12\n",
      "32000/32000 [==============================] - 22s - loss: 0.0123 - acc: 0.9955 - val_loss: 0.0431 - val_acc: 0.9906\n",
      "Epoch 10/12\n",
      "32000/32000 [==============================] - 22s - loss: 0.0096 - acc: 0.9970 - val_loss: 0.0340 - val_acc: 0.9922\n",
      "Epoch 11/12\n",
      "32000/32000 [==============================] - 22s - loss: 0.0075 - acc: 0.9974 - val_loss: 0.0546 - val_acc: 0.9872\n",
      "Epoch 12/12\n",
      "32000/32000 [==============================] - 22s - loss: 0.0069 - acc: 0.9978 - val_loss: 0.0354 - val_acc: 0.9905\n",
      "Epoch 1/18\n",
      "32000/32000 [==============================] - 22s - loss: 0.0087 - acc: 0.9973 - val_loss: 0.0487 - val_acc: 0.9917\n",
      "Epoch 2/18\n",
      "32000/32000 [==============================] - 22s - loss: 0.0105 - acc: 0.9970 - val_loss: 0.0413 - val_acc: 0.9916\n",
      "Epoch 3/18\n",
      "32000/32000 [==============================] - 22s - loss: 0.0090 - acc: 0.9968 - val_loss: 0.0415 - val_acc: 0.9916\n",
      "Epoch 4/18\n",
      "32000/32000 [==============================] - 22s - loss: 0.0083 - acc: 0.9973 - val_loss: 0.0338 - val_acc: 0.9936\n",
      "Epoch 5/18\n",
      "32000/32000 [==============================] - 22s - loss: 0.0043 - acc: 0.9987 - val_loss: 0.0407 - val_acc: 0.9920\n",
      "Epoch 6/18\n",
      "32000/32000 [==============================] - 22s - loss: 0.0064 - acc: 0.9981 - val_loss: 0.0499 - val_acc: 0.9901\n",
      "Epoch 7/18\n",
      "32000/32000 [==============================] - 22s - loss: 0.0087 - acc: 0.9973 - val_loss: 0.0435 - val_acc: 0.9913\n",
      "Epoch 8/18\n",
      "32000/32000 [==============================] - 22s - loss: 0.0058 - acc: 0.9981 - val_loss: 0.0388 - val_acc: 0.9915\n",
      "Epoch 9/18\n",
      "32000/32000 [==============================] - 22s - loss: 0.0047 - acc: 0.9986 - val_loss: 0.0321 - val_acc: 0.9928\n",
      "Epoch 10/18\n",
      "32000/32000 [==============================] - 22s - loss: 0.0061 - acc: 0.9980 - val_loss: 0.0493 - val_acc: 0.9916\n",
      "Epoch 11/18\n",
      "32000/32000 [==============================] - 22s - loss: 0.0061 - acc: 0.9981 - val_loss: 0.0543 - val_acc: 0.9883\n",
      "Epoch 12/18\n",
      "32000/32000 [==============================] - 22s - loss: 0.0043 - acc: 0.9987 - val_loss: 0.0539 - val_acc: 0.9901\n",
      "Epoch 13/18\n",
      "32000/32000 [==============================] - 22s - loss: 0.0048 - acc: 0.9985 - val_loss: 0.0484 - val_acc: 0.9908\n",
      "Epoch 14/18\n",
      "32000/32000 [==============================] - 22s - loss: 0.0068 - acc: 0.9984 - val_loss: 0.0505 - val_acc: 0.9923\n",
      "Epoch 15/18\n",
      "32000/32000 [==============================] - 21s - loss: 0.0048 - acc: 0.9987 - val_loss: 0.0355 - val_acc: 0.9932\n",
      "Epoch 16/18\n",
      "32000/32000 [==============================] - 21s - loss: 0.0037 - acc: 0.9988 - val_loss: 0.0498 - val_acc: 0.9920\n",
      "Epoch 17/18\n",
      "32000/32000 [==============================] - 22s - loss: 0.0029 - acc: 0.9992 - val_loss: 0.0502 - val_acc: 0.9916\n",
      "Epoch 18/18\n",
      "32000/32000 [==============================] - 21s - loss: 0.0032 - acc: 0.9990 - val_loss: 0.0526 - val_acc: 0.9916\n"
     ]
    },
    {
     "name": "stderr",
     "output_type": "stream",
     "text": [
      "/home/ubuntu/anaconda2/lib/python2.7/site-packages/keras/layers/core.py:577: UserWarning: `output_shape` argument not specified for layer lambda_10 and cannot be automatically inferred with the Theano backend. Defaulting to output shape `(None, 1, 28, 28)` (same as input shape). If the expected output shape is different, specify it via the `output_shape` argument.\n",
      "  .format(self.name, input_shape))\n"
     ]
    },
    {
     "name": "stdout",
     "output_type": "stream",
     "text": [
      "Epoch 1/1\n",
      "32000/32000 [==============================] - 22s - loss: 0.1450 - acc: 0.9573 - val_loss: 0.1118 - val_acc: 0.9703\n",
      "Epoch 1/4\n",
      "32000/32000 [==============================] - 22s - loss: 0.0527 - acc: 0.9833 - val_loss: 0.0408 - val_acc: 0.9892\n",
      "Epoch 2/4\n",
      "32000/32000 [==============================] - 22s - loss: 0.0353 - acc: 0.9885 - val_loss: 0.0305 - val_acc: 0.9904\n",
      "Epoch 3/4\n",
      "32000/32000 [==============================] - 22s - loss: 0.0247 - acc: 0.9916 - val_loss: 0.0520 - val_acc: 0.9865\n",
      "Epoch 4/4\n",
      "32000/32000 [==============================] - 22s - loss: 0.0239 - acc: 0.9921 - val_loss: 0.0491 - val_acc: 0.9868\n",
      "Epoch 1/12\n",
      "32000/32000 [==============================] - 22s - loss: 0.0207 - acc: 0.9933 - val_loss: 0.0311 - val_acc: 0.9925\n",
      "Epoch 2/12\n",
      "32000/32000 [==============================] - 22s - loss: 0.0177 - acc: 0.9937 - val_loss: 0.0450 - val_acc: 0.9886\n",
      "Epoch 3/12\n",
      "32000/32000 [==============================] - 22s - loss: 0.0186 - acc: 0.9932 - val_loss: 0.0414 - val_acc: 0.9893\n",
      "Epoch 4/12\n",
      "32000/32000 [==============================] - 22s - loss: 0.0139 - acc: 0.9953 - val_loss: 0.0385 - val_acc: 0.9913\n",
      "Epoch 5/12\n",
      "32000/32000 [==============================] - 22s - loss: 0.0125 - acc: 0.9960 - val_loss: 0.0304 - val_acc: 0.9908\n",
      "Epoch 6/12\n",
      "32000/32000 [==============================] - 22s - loss: 0.0116 - acc: 0.9960 - val_loss: 0.0431 - val_acc: 0.9905\n",
      "Epoch 7/12\n",
      "32000/32000 [==============================] - 22s - loss: 0.0171 - acc: 0.9948 - val_loss: 0.0360 - val_acc: 0.9913\n",
      "Epoch 8/12\n",
      "32000/32000 [==============================] - 21s - loss: 0.0130 - acc: 0.9956 - val_loss: 0.0468 - val_acc: 0.9910\n",
      "Epoch 9/12\n",
      "32000/32000 [==============================] - 22s - loss: 0.0082 - acc: 0.9975 - val_loss: 0.0451 - val_acc: 0.9903\n",
      "Epoch 10/12\n",
      "32000/32000 [==============================] - 22s - loss: 0.0102 - acc: 0.9962 - val_loss: 0.0445 - val_acc: 0.9909\n",
      "Epoch 11/12\n",
      "32000/32000 [==============================] - 22s - loss: 0.0092 - acc: 0.9968 - val_loss: 0.0410 - val_acc: 0.9914\n",
      "Epoch 12/12\n",
      "32000/32000 [==============================] - 22s - loss: 0.0090 - acc: 0.9968 - val_loss: 0.0439 - val_acc: 0.9916\n",
      "Epoch 1/18\n",
      "32000/32000 [==============================] - 22s - loss: 0.0077 - acc: 0.9976 - val_loss: 0.0385 - val_acc: 0.9913\n",
      "Epoch 2/18\n",
      "32000/32000 [==============================] - 22s - loss: 0.0091 - acc: 0.9972 - val_loss: 0.0406 - val_acc: 0.9906\n",
      "Epoch 3/18\n",
      "32000/32000 [==============================] - 22s - loss: 0.0069 - acc: 0.9974 - val_loss: 0.0399 - val_acc: 0.9929\n",
      "Epoch 4/18\n",
      "32000/32000 [==============================] - 22s - loss: 0.0051 - acc: 0.9985 - val_loss: 0.0604 - val_acc: 0.9880\n",
      "Epoch 5/18\n",
      "32000/32000 [==============================] - 21s - loss: 0.0063 - acc: 0.9978 - val_loss: 0.0399 - val_acc: 0.9922\n",
      "Epoch 6/18\n",
      "32000/32000 [==============================] - 22s - loss: 0.0045 - acc: 0.9982 - val_loss: 0.0397 - val_acc: 0.9928\n",
      "Epoch 7/18\n",
      "32000/32000 [==============================] - 22s - loss: 0.0077 - acc: 0.9973 - val_loss: 0.0352 - val_acc: 0.9927\n",
      "Epoch 8/18\n",
      "32000/32000 [==============================] - 22s - loss: 0.0049 - acc: 0.9983 - val_loss: 0.0485 - val_acc: 0.9907\n",
      "Epoch 9/18\n",
      "32000/32000 [==============================] - 21s - loss: 0.0053 - acc: 0.9984 - val_loss: 0.0483 - val_acc: 0.9907\n",
      "Epoch 10/18\n",
      "32000/32000 [==============================] - 22s - loss: 0.0069 - acc: 0.9979 - val_loss: 0.0391 - val_acc: 0.9928\n",
      "Epoch 11/18\n",
      "32000/32000 [==============================] - 22s - loss: 0.0053 - acc: 0.9985 - val_loss: 0.0434 - val_acc: 0.9914\n",
      "Epoch 12/18\n",
      "32000/32000 [==============================] - 22s - loss: 0.0033 - acc: 0.9987 - val_loss: 0.0431 - val_acc: 0.9924\n",
      "Epoch 13/18\n",
      "32000/32000 [==============================] - 22s - loss: 0.0047 - acc: 0.9986 - val_loss: 0.0511 - val_acc: 0.9925\n",
      "Epoch 14/18\n",
      "32000/32000 [==============================] - 22s - loss: 0.0061 - acc: 0.9978 - val_loss: 0.0411 - val_acc: 0.9935\n",
      "Epoch 15/18\n",
      "32000/32000 [==============================] - 22s - loss: 0.0023 - acc: 0.9991 - val_loss: 0.0336 - val_acc: 0.9946\n",
      "Epoch 16/18\n",
      "32000/32000 [==============================] - 22s - loss: 0.0042 - acc: 0.9988 - val_loss: 0.0367 - val_acc: 0.9936\n",
      "Epoch 17/18\n",
      "32000/32000 [==============================] - 22s - loss: 0.0055 - acc: 0.9983 - val_loss: 0.0450 - val_acc: 0.9933\n",
      "Epoch 18/18\n",
      "32000/32000 [==============================] - 22s - loss: 0.0041 - acc: 0.9988 - val_loss: 0.0444 - val_acc: 0.9932\n"
     ]
    }
   ],
   "source": [
    "models = [fit_model() for i in range(6)]"
   ]
  },
  {
   "cell_type": "code",
   "execution_count": 36,
   "metadata": {
    "collapsed": false
   },
   "outputs": [],
   "source": [
    "for i,m in enumerate(models):\n",
    "    m.save_weights(model_path+'ensmb-'+str(i)+'.h5')"
   ]
  },
  {
   "cell_type": "code",
   "execution_count": 37,
   "metadata": {
    "collapsed": false
   },
   "outputs": [
    {
     "name": "stdout",
     "output_type": "stream",
     "text": [
      " 9984/10000 [============================>.] - ETA: 0s"
     ]
    }
   ],
   "source": [
    "evals = np.array([m.evaluate(X_val, Y_val, batch_size=256) for m in models])"
   ]
  },
  {
   "cell_type": "code",
   "execution_count": 38,
   "metadata": {
    "collapsed": false
   },
   "outputs": [
    {
     "data": {
      "text/plain": [
       "array([ 0.0448,  0.9925])"
      ]
     },
     "execution_count": 38,
     "metadata": {},
     "output_type": "execute_result"
    }
   ],
   "source": [
    "evals.mean(axis=0)"
   ]
  },
  {
   "cell_type": "code",
   "execution_count": 39,
   "metadata": {
    "collapsed": false
   },
   "outputs": [],
   "source": [
    "all_preds = np.stack([m.predict(X_val, batch_size=256) for m in models])"
   ]
  },
  {
   "cell_type": "code",
   "execution_count": 40,
   "metadata": {
    "collapsed": false
   },
   "outputs": [
    {
     "data": {
      "text/plain": [
       "(6, 10000, 10)"
      ]
     },
     "execution_count": 40,
     "metadata": {},
     "output_type": "execute_result"
    }
   ],
   "source": [
    "all_preds.shape"
   ]
  },
  {
   "cell_type": "code",
   "execution_count": 41,
   "metadata": {
    "collapsed": false
   },
   "outputs": [],
   "source": [
    "avg_preds = all_preds.mean(axis=0)"
   ]
  },
  {
   "cell_type": "code",
   "execution_count": 42,
   "metadata": {
    "collapsed": false,
    "scrolled": true
   },
   "outputs": [
    {
     "data": {
      "text/plain": [
       "array(0.9950000047683716, dtype=float32)"
      ]
     },
     "execution_count": 42,
     "metadata": {},
     "output_type": "execute_result"
    }
   ],
   "source": [
    "keras.metrics.categorical_accuracy(Y_val, avg_preds).eval()"
   ]
  },
  {
   "cell_type": "markdown",
   "metadata": {},
   "source": [
    "So we should have around 99.5% accuracy. Let's see:"
   ]
  },
  {
   "cell_type": "markdown",
   "metadata": {},
   "source": [
    "## Prediction Time"
   ]
  },
  {
   "cell_type": "code",
   "execution_count": 44,
   "metadata": {
    "collapsed": false
   },
   "outputs": [
    {
     "data": {
      "text/plain": [
       "(28000, 28, 28, 1)"
      ]
     },
     "execution_count": 44,
     "metadata": {},
     "output_type": "execute_result"
    }
   ],
   "source": [
    "X_test.shape"
   ]
  },
  {
   "cell_type": "code",
   "execution_count": 46,
   "metadata": {
    "collapsed": true
   },
   "outputs": [],
   "source": [
    "X_test = np.expand_dims(X_test,1)\n",
    "X_test = np.squeeze(X_test,4)"
   ]
  },
  {
   "cell_type": "code",
   "execution_count": 48,
   "metadata": {
    "collapsed": false
   },
   "outputs": [],
   "source": [
    "all_preds = np.stack([m.predict(X_test, batch_size=256) for m in models])"
   ]
  },
  {
   "cell_type": "code",
   "execution_count": 49,
   "metadata": {
    "collapsed": true
   },
   "outputs": [],
   "source": [
    "predictions = all_preds.mean(axis=0)"
   ]
  },
  {
   "cell_type": "markdown",
   "metadata": {},
   "source": [
    "We actually got 99.4% accuracy on the test set, not bad!"
   ]
  }
 ],
 "metadata": {
  "anaconda-cloud": {},
  "kernelspec": {
   "display_name": "Python 2",
   "language": "python",
   "name": "python2"
  },
  "language_info": {
   "codemirror_mode": {
    "name": "ipython",
    "version": 2
   },
   "file_extension": ".py",
   "mimetype": "text/x-python",
   "name": "python",
   "nbconvert_exporter": "python",
   "pygments_lexer": "ipython2",
   "version": "2.7.12"
  },
  "nav_menu": {},
  "toc": {
   "navigate_menu": true,
   "number_sections": true,
   "sideBar": true,
   "threshold": 6,
   "toc_cell": false,
   "toc_section_display": "block",
   "toc_window_display": false
  }
 },
 "nbformat": 4,
 "nbformat_minor": 0
}
